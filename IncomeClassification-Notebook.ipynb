{
  "metadata": {
    "kernelspec": {
      "display_name": "Python 3",
      "language": "python",
      "name": "python3"
    },
    "language_info": {
      "name": "python",
      "version": "3.6.4",
      "mimetype": "text/x-python",
      "codemirror_mode": {
        "name": "ipython",
        "version": 3
      },
      "pygments_lexer": "ipython3",
      "nbconvert_exporter": "python",
      "file_extension": ".py"
    },
    "toc": {
      "nav_menu": {},
      "number_sections": true,
      "sideBar": true,
      "skip_h1_title": true,
      "title_cell": "Table of Contents",
      "title_sidebar": "Contents",
      "toc_cell": true,
      "toc_position": {},
      "toc_section_display": true,
      "toc_window_display": true
    },
    "kaggle": {
      "accelerator": "none",
      "dataSources": [
        {
          "sourceId": 472,
          "sourceType": "datasetVersion",
          "datasetId": 222
        }
      ],
      "dockerImageVersionId": 46,
      "isInternetEnabled": false,
      "language": "python",
      "sourceType": "notebook",
      "isGpuEnabled": false
    },
    "colab": {
      "name": "notebook0e0c76465f",
      "provenance": [],
      "include_colab_link": true
    }
  },
  "nbformat_minor": 0,
  "nbformat": 4,
  "cells": [
    {
      "cell_type": "markdown",
      "metadata": {
        "id": "view-in-github",
        "colab_type": "text"
      },
      "source": [
        "<a href=\"https://colab.research.google.com/github/triguiahmed/IncomeClassificationModel/blob/main/IncomeClassification-Notebook.ipynb\" target=\"_parent\"><img src=\"https://colab.research.google.com/assets/colab-badge.svg\" alt=\"Open In Colab\"/></a>"
      ]
    },
    {
      "cell_type": "markdown",
      "source": [
        "# **Income Classification Model**\n",
        "\n",
        "Ahmed Trigui & Malek Atig Ben Salah & Mohamed Aziz Chagour & Racem Haddad"
      ],
      "metadata": {
        "_uuid": "6217ff07df3376e3bc5e69bda5cdbbd4bb2ebe4c",
        "id": "FrTRrDCtwZcj"
      }
    },
    {
      "cell_type": "markdown",
      "source": [
        "## Fetching Data"
      ],
      "metadata": {
        "_uuid": "ce30621a2a5ae7208111d7f9bd171fbf02201c0a",
        "id": "p8KILdyPwZcn"
      }
    },
    {
      "cell_type": "markdown",
      "source": [
        "### Import Package and Data"
      ],
      "metadata": {
        "_uuid": "81ad464a1346c521017c51b6b9d7d7de37208a3a",
        "id": "J_lfhVAhwZco"
      }
    },
    {
      "cell_type": "code",
      "source": [
        "import pandas as pd\n",
        "import numpy as np\n",
        "import seaborn as sns\n",
        "import matplotlib.pyplot as plt\n",
        "import sklearn\n",
        "%matplotlib inline"
      ],
      "metadata": {
        "collapsed": true,
        "trusted": true,
        "_uuid": "1b4d7fb8d3631281778d2c0dbe1736d715afeca9",
        "jupyter": {
          "outputs_hidden": true
        },
        "id": "6TUgd1pHwZco"
      },
      "outputs": [],
      "execution_count": null
    },
    {
      "cell_type": "code",
      "source": [
        "income_df = pd.read_csv(\"../input/adult.csv\")\n",
        "income_df.head()"
      ],
      "metadata": {
        "trusted": true,
        "_uuid": "e6447058c0b77e237e98c9af6b3d1bedda852b9e",
        "id": "1XjfqZmrwZcp"
      },
      "outputs": [],
      "execution_count": null
    },
    {
      "cell_type": "code",
      "source": [
        "income_df.describe()"
      ],
      "metadata": {
        "trusted": true,
        "_uuid": "36a810d2c2c1656bc59989fd3bfad07956d3a84c",
        "id": "OLXbjKg1wZcp"
      },
      "outputs": [],
      "execution_count": null
    },
    {
      "cell_type": "markdown",
      "source": [
        "## Data Cleaning"
      ],
      "metadata": {
        "_uuid": "6d8bbe4c357afd77d58c8e1e7fe7534189a79d18",
        "id": "iCttQ8uDwZcq"
      }
    },
    {
      "cell_type": "markdown",
      "source": [
        " ### Dealing with Missing Value"
      ],
      "metadata": {
        "_uuid": "07afeac32a2345f72bc21405ca64ffb81affd67f",
        "id": "QDZjQ4f_wZcq"
      }
    },
    {
      "cell_type": "code",
      "source": [
        "income_df.isnull().sum()"
      ],
      "metadata": {
        "trusted": true,
        "_uuid": "5172eeefae75f0b083d28c2b37759b86ceb09954",
        "id": "p6MQqhkowZcr"
      },
      "outputs": [],
      "execution_count": null
    },
    {
      "cell_type": "markdown",
      "source": [
        "Attributes workclass, occupation, and native-country most NAs. Let's drop these NA."
      ],
      "metadata": {
        "_uuid": "568dd4716a676df008dd30211ca68c6aaeeab593",
        "id": "snvgSPTQwZcr"
      }
    },
    {
      "cell_type": "code",
      "source": [
        "income_df.age = income_df.age.astype(float)\n",
        "income_df['hours-per-week'] = income_df['hours-per-week'].astype(float)"
      ],
      "metadata": {
        "collapsed": true,
        "trusted": true,
        "_uuid": "57ba3ab4f43cc4f85594e6ee53c0b695edd8f2d9",
        "jupyter": {
          "outputs_hidden": true
        },
        "id": "9ILoTyPswZcr"
      },
      "outputs": [],
      "execution_count": null
    },
    {
      "cell_type": "code",
      "source": [
        "my_df = income_df.dropna()"
      ],
      "metadata": {
        "collapsed": true,
        "trusted": true,
        "_uuid": "eb01badc11f04a8f2f9966cec29d8852b7792fea",
        "jupyter": {
          "outputs_hidden": true
        },
        "id": "gt_OWYBpwZcr"
      },
      "outputs": [],
      "execution_count": null
    },
    {
      "cell_type": "code",
      "source": [
        "my_df['predclass'] = my_df['income']\n",
        "del my_df['income']\n",
        "my_df['education-num'] = my_df['educational-num']\n",
        "del my_df['educational-num']\n"
      ],
      "metadata": {
        "trusted": true,
        "_uuid": "1cec9ccac55aedc019e8c08405a77a977f7a67a0",
        "id": "dymhdyVdwZcr"
      },
      "outputs": [],
      "execution_count": null
    },
    {
      "cell_type": "code",
      "source": [
        "my_df.info()"
      ],
      "metadata": {
        "scrolled": true,
        "trusted": true,
        "_uuid": "52a1ced9e643d2f0cf72523c4f2d134bdb1a6a6e",
        "id": "5nUgSshdwZcs"
      },
      "outputs": [],
      "execution_count": null
    },
    {
      "cell_type": "code",
      "source": [
        "my_df.isnull().sum()"
      ],
      "metadata": {
        "trusted": true,
        "_uuid": "85ab794de520bb9084a2a61eba42dff00f4243fb",
        "id": "kiLVL88IwZcs"
      },
      "outputs": [],
      "execution_count": null
    },
    {
      "cell_type": "markdown",
      "source": [
        "## Feature Engineering"
      ],
      "metadata": {
        "_uuid": "8dd1bfcf5c753fe0972a18fd599ef972afdbc5fa",
        "id": "iv_hmurwwZcs"
      }
    },
    {
      "cell_type": "code",
      "source": [
        "print('workclass',my_df.workclass.unique())\n",
        "print('education',my_df.education.unique())\n",
        "print('marital-status',my_df['marital-status'].unique())\n",
        "print('occupation',my_df.occupation.unique())\n",
        "print('relationship',my_df.relationship.unique())\n",
        "print('race',my_df.race.unique())\n",
        "print('gender',my_df.gender.unique())\n",
        "print('native-country',my_df['native-country'].unique())\n",
        "print('predclass',my_df.predclass.unique())"
      ],
      "metadata": {
        "trusted": true,
        "_uuid": "e8698a38fecb94f823a20df9cb54d47e170961a9",
        "id": "t2Eg0QjmwZcs"
      },
      "outputs": [],
      "execution_count": null
    },
    {
      "cell_type": "markdown",
      "source": [
        "### Predclass"
      ],
      "metadata": {
        "_uuid": "d83b6826d43eba29210627069c4464155a9bd138",
        "id": "3qv8eXyEwZcs"
      }
    },
    {
      "cell_type": "code",
      "source": [
        "#my_df.loc[income_df['predclass'] == ' >50K', 'predclass'] = 1\n",
        "#my_df.loc[income_df['predclass'] == ' <=50K', 'predclass'] = 0"
      ],
      "metadata": {
        "collapsed": true,
        "trusted": true,
        "_uuid": "7fd2ca89452a8e730e8fa95299e1f6a324f94624",
        "jupyter": {
          "outputs_hidden": true
        },
        "id": "xCO0w4wawZcs"
      },
      "outputs": [],
      "execution_count": null
    },
    {
      "cell_type": "code",
      "source": [
        "#predclass1 = my_df[my_df['predclass'] == 1]\n",
        "#predclass0 = my_df[my_df['predclass'] == 0]"
      ],
      "metadata": {
        "collapsed": true,
        "trusted": true,
        "_uuid": "59a011b91008db65ab12bdae5464b2bf037b8ac6",
        "jupyter": {
          "outputs_hidden": true
        },
        "id": "2aGTwLUFwZct"
      },
      "outputs": [],
      "execution_count": null
    },
    {
      "cell_type": "code",
      "source": [
        "fig = plt.figure(figsize=(20,1))\n",
        "plt.style.use('seaborn-ticks')\n",
        "sns.countplot(y=\"predclass\", data=my_df)"
      ],
      "metadata": {
        "trusted": true,
        "_uuid": "c49d58009d0a88502da25be5d2ce27b2b8282fe6",
        "id": "473RF0upwZct"
      },
      "outputs": [],
      "execution_count": null
    },
    {
      "cell_type": "markdown",
      "source": [
        "### Education"
      ],
      "metadata": {
        "_uuid": "9aecdb0637da60d7da979f5f8af8480befa1bfe6",
        "id": "39oiUFPrwZct"
      }
    },
    {
      "cell_type": "code",
      "source": [
        "#income_df[['education', 'education-num']].groupby(['education'], as_index=False).mean().sort_values(by='education-num', ascending=False)"
      ],
      "metadata": {
        "collapsed": true,
        "trusted": true,
        "_uuid": "991bff1e91c4259c9f0f25be5e51940922c2fb4a",
        "jupyter": {
          "outputs_hidden": true
        },
        "id": "46FnDuPFwZct"
      },
      "outputs": [],
      "execution_count": null
    },
    {
      "cell_type": "code",
      "source": [
        "\n",
        "my_df['education'].replace('Preschool', 'dropout',inplace=True)\n",
        "my_df['education'].replace('10th', 'dropout',inplace=True)\n",
        "my_df['education'].replace('11th', 'dropout',inplace=True)\n",
        "my_df['education'].replace('12th', 'dropout',inplace=True)\n",
        "my_df['education'].replace('1st-4th', 'dropout',inplace=True)\n",
        "my_df['education'].replace('5th-6th', 'dropout',inplace=True)\n",
        "my_df['education'].replace('7th-8th', 'dropout',inplace=True)\n",
        "my_df['education'].replace('9th', 'dropout',inplace=True)\n",
        "my_df['education'].replace('HS-Grad', 'HighGrad',inplace=True)\n",
        "my_df['education'].replace('HS-grad', 'HighGrad',inplace=True)\n",
        "my_df['education'].replace('Some-college', 'CommunityCollege',inplace=True)\n",
        "my_df['education'].replace('Assoc-acdm', 'CommunityCollege',inplace=True)\n",
        "my_df['education'].replace('Assoc-voc', 'CommunityCollege',inplace=True)\n",
        "my_df['education'].replace('Bachelors', 'Bachelors',inplace=True)\n",
        "my_df['education'].replace('Masters', 'Masters',inplace=True)\n",
        "my_df['education'].replace('Prof-school', 'Masters',inplace=True)\n",
        "my_df['education'].replace('Doctorate', 'Doctorate',inplace=True)"
      ],
      "metadata": {
        "trusted": true,
        "collapsed": true,
        "_uuid": "5c67fee170021ec121b0e5696ac8ffa49559d782",
        "jupyter": {
          "outputs_hidden": true
        },
        "id": "dUKm5T9JwZcu"
      },
      "outputs": [],
      "execution_count": null
    },
    {
      "cell_type": "code",
      "source": [
        "my_df[['education', 'education-num']].groupby(['education'], as_index=False).mean().sort_values(by='education-num', ascending=False)"
      ],
      "metadata": {
        "trusted": true,
        "_uuid": "172875ab53d76c527213c113acc01c01ae74f808",
        "id": "kfclh9l-wZcv"
      },
      "outputs": [],
      "execution_count": null
    },
    {
      "cell_type": "code",
      "source": [
        "fig = plt.figure(figsize=(20,3))\n",
        "plt.style.use('seaborn-ticks')\n",
        "sns.countplot(y=\"education\", data=my_df)"
      ],
      "metadata": {
        "trusted": true,
        "_uuid": "12ece0fc2f4262488d2e51dadc4c36b0e732c924",
        "id": "zGbeKlWDwZcv"
      },
      "outputs": [],
      "execution_count": null
    },
    {
      "cell_type": "markdown",
      "source": [
        "### Marital-status"
      ],
      "metadata": {
        "_uuid": "b65b195064b624cc5f6a9a4ec84ff2c770c18dfb",
        "id": "3Veoe_hbwZcw"
      }
    },
    {
      "cell_type": "code",
      "source": [
        "#df2 = my_df['marital-status'].replace(' Never-married', 'NotMarried')\n",
        "my_df['marital-status'].replace('Never-married', 'NotMarried',inplace=True)\n",
        "my_df['marital-status'].replace(['Married-AF-spouse'], 'Married',inplace=True)\n",
        "my_df['marital-status'].replace(['Married-civ-spouse'], 'Married',inplace=True)\n",
        "my_df['marital-status'].replace(['Married-spouse-absent'], 'NotMarried',inplace=True)\n",
        "my_df['marital-status'].replace(['Separated'], 'Separated',inplace=True)\n",
        "my_df['marital-status'].replace(['Divorced'], 'Separated',inplace=True)\n",
        "my_df['marital-status'].replace(['Widowed'], 'Widowed',inplace=True)"
      ],
      "metadata": {
        "trusted": true,
        "collapsed": true,
        "_uuid": "27cde17942ea9230ba5a06496b4adcfe6255659e",
        "jupyter": {
          "outputs_hidden": true
        },
        "id": "q6dikR38wZcw"
      },
      "outputs": [],
      "execution_count": null
    },
    {
      "cell_type": "code",
      "source": [
        "fig = plt.figure(figsize=(20,2))\n",
        "plt.style.use('seaborn-ticks')\n",
        "sns.countplot(y=\"marital-status\", data=my_df)"
      ],
      "metadata": {
        "trusted": true,
        "_uuid": "ca05dc17c888fa8fb68be2e4fae614fdb2cb99d9",
        "id": "tW2SUkiWwZcw"
      },
      "outputs": [],
      "execution_count": null
    },
    {
      "cell_type": "markdown",
      "source": [
        "### Occupation"
      ],
      "metadata": {
        "_uuid": "e1655940ce763121a0dac97a8ebb60934468c75a",
        "id": "b3FNM98HwZcw"
      }
    },
    {
      "cell_type": "code",
      "source": [
        "plt.style.use('seaborn-ticks')\n",
        "plt.figure(figsize=(20,4))\n",
        "sns.countplot(y=\"occupation\", data=my_df)"
      ],
      "metadata": {
        "trusted": true,
        "_uuid": "a55be5ba124aa34456697a7cae827e248392eccb",
        "id": "1t2KPmJkwZcw"
      },
      "outputs": [],
      "execution_count": null
    },
    {
      "cell_type": "markdown",
      "source": [
        "### Workclass"
      ],
      "metadata": {
        "_uuid": "d5bd44b411c7db8b0afcb1efed193086534712f0",
        "id": "4nEqxdnRwZc2"
      }
    },
    {
      "cell_type": "code",
      "source": [
        "plt.style.use('seaborn-ticks')\n",
        "plt.figure(figsize=(20,3))\n",
        "sns.countplot(y=\"workclass\", data=my_df)"
      ],
      "metadata": {
        "trusted": true,
        "_uuid": "00f2c50817730086744f13a05ca38e72294107cf",
        "id": "ilEo7ESJwZc2"
      },
      "outputs": [],
      "execution_count": null
    },
    {
      "cell_type": "code",
      "source": [
        "# grid = sns.FacetGrid(train_df, col='Pclass', hue='Survived')\n",
        "#grid = sns.FacetGrid(my_df, col='predclass', row='workclass', size=2.2, aspect=1.6)\n",
        "#grid.map(plt.hist, 'age', alpha=.5, bins=20)\n",
        "#grid.add_legend()"
      ],
      "metadata": {
        "code_folding": [],
        "collapsed": true,
        "trusted": true,
        "_uuid": "1a421410fb3a1b77ad2b787baffec33488473c71",
        "jupyter": {
          "outputs_hidden": true
        },
        "id": "HmZS18eIwZc2"
      },
      "outputs": [],
      "execution_count": null
    },
    {
      "cell_type": "markdown",
      "source": [
        "### age"
      ],
      "metadata": {
        "_uuid": "e2f361682013921786ebcfda5ba2803de1875363",
        "id": "jfmtsV6lwZc2"
      }
    },
    {
      "cell_type": "code",
      "source": [
        "# make the age variable discretized\n",
        "my_df['age_bin'] = pd.cut(my_df['age'], 20)"
      ],
      "metadata": {
        "trusted": true,
        "collapsed": true,
        "_uuid": "6398a89173585f764469f7d49632c784d248cffa",
        "jupyter": {
          "outputs_hidden": true
        },
        "id": "HV7ACO29wZc2"
      },
      "outputs": [],
      "execution_count": null
    },
    {
      "cell_type": "code",
      "source": [
        "plt.style.use('seaborn-ticks')\n",
        "fig = plt.figure(figsize=(20,5))\n",
        "plt.subplot(1, 2, 1)\n",
        "sns.countplot(y=\"age_bin\", data=my_df)\n",
        "plt.subplot(1, 2, 2)\n",
        "sns.distplot(my_df[my_df['predclass'] == '>50K']['age'], kde_kws={\"label\": \">$50K\"})\n",
        "sns.distplot(my_df[my_df['predclass'] == '<=50K']['age'], kde_kws={\"label\": \"<=$50K\"})"
      ],
      "metadata": {
        "trusted": true,
        "_uuid": "99472e6c817f4020c116eca2eeaf5555f92a6329",
        "id": "EwDfOwVFwZc3"
      },
      "outputs": [],
      "execution_count": null
    },
    {
      "cell_type": "code",
      "source": [
        "my_df[['predclass', 'age']].groupby(['predclass'], as_index=False).mean().sort_values(by='age', ascending=False)"
      ],
      "metadata": {
        "trusted": true,
        "_uuid": "331ba2bba84fda54e07c101dbfe4faa9eaa866d0",
        "id": "7-7Y9k6CwZc3"
      },
      "outputs": [],
      "execution_count": null
    },
    {
      "cell_type": "markdown",
      "source": [
        "### Race"
      ],
      "metadata": {
        "_uuid": "6ea29eee2391d0de31a85033054cc5a008359c79",
        "id": "VMJ9hbOwwZc3"
      }
    },
    {
      "cell_type": "code",
      "source": [
        "plt.style.use('seaborn-whitegrid')\n",
        "x, y, hue = \"race\", \"prop\", \"gender\"\n",
        "#hue_order = [\"Male\", \"Female\"]\n",
        "plt.figure(figsize=(20,5))\n",
        "f, axes = plt.subplots(1, 2)\n",
        "sns.countplot(x=x, hue=hue, data=my_df, ax=axes[0])\n",
        "\n",
        "prop_df = (my_df[x]\n",
        "           .groupby(my_df[hue])\n",
        "           .value_counts(normalize=True)\n",
        "           .rename(y)\n",
        "           .reset_index())\n",
        "\n",
        "sns.barplot(x=x, y=y, hue=hue, data=prop_df, ax=axes[1])\n"
      ],
      "metadata": {
        "trusted": true,
        "_uuid": "3a296ce9bd8315ce6afe8e226abf01052631567f",
        "id": "7YyUkoAxwZc3"
      },
      "outputs": [],
      "execution_count": null
    },
    {
      "cell_type": "markdown",
      "source": [
        "### Hours of Work"
      ],
      "metadata": {
        "_uuid": "d6255cd0b0a3215bd032fbf2e67272a8399f8e83",
        "id": "IhL0DSnYwZc3"
      }
    },
    {
      "cell_type": "code",
      "source": [
        "# Let's use the Pandas Cut function to bin the data in equally sized buckets\n",
        "my_df['hours-per-week_bin'] = pd.cut(my_df['hours-per-week'], 10)\n",
        "my_df['hours-per-week'] = my_df['hours-per-week']"
      ],
      "metadata": {
        "trusted": true,
        "collapsed": true,
        "_uuid": "d1c1001bab8474951d19ea99cc473b343d6735b6",
        "jupyter": {
          "outputs_hidden": true
        },
        "id": "ZiIaaqVNwZc3"
      },
      "outputs": [],
      "execution_count": null
    },
    {
      "cell_type": "code",
      "source": [
        "plt.style.use('seaborn-whitegrid')\n",
        "fig = plt.figure(figsize=(20,5))\n",
        "plt.subplot(1, 2, 1)\n",
        "sns.countplot(y=\"hours-per-week_bin\", data=my_df);\n",
        "plt.subplot(1, 2, 2)\n",
        "sns.distplot(my_df['hours-per-week']);\n",
        "sns.distplot(my_df[my_df['predclass'] == '>50K']['hours-per-week'], kde_kws={\"label\": \">$50K\"})\n",
        "sns.distplot(my_df[my_df['predclass'] == '<=50K']['hours-per-week'], kde_kws={\"label\": \"<$50K\"})\n",
        "plt.ylim(0, None)\n",
        "plt.xlim(20, 60)\n"
      ],
      "metadata": {
        "trusted": true,
        "_uuid": "40ba9f581d050349c470439638ad12b21ad1a408",
        "id": "bl4PqRNzwZc4"
      },
      "outputs": [],
      "execution_count": null
    },
    {
      "cell_type": "markdown",
      "source": [
        "### Create a crossing feature: Age + hour of work"
      ],
      "metadata": {
        "_uuid": "2370987fbe23dbcd0d1a23b5536f1cfd8a477da8",
        "id": "SG2MgVpkwZc4"
      }
    },
    {
      "cell_type": "code",
      "source": [
        "g = sns.jointplot(x = 'age',\n",
        "              y = 'hours-per-week',\n",
        "              data = my_df,\n",
        "              kind = 'hex',\n",
        "              cmap= 'hot',\n",
        "              size=10)\n",
        "\n",
        "#http://stackoverflow.com/questions/33288830/how-to-plot-regression-line-on-hexbins-with-seaborn\n",
        "sns.regplot(my_df.age, my_df['hours-per-week'], ax=g.ax_joint, scatter=False, color='grey')"
      ],
      "metadata": {
        "trusted": true,
        "_uuid": "d515d464798ab346d5077d989d3c2b9221d18736",
        "id": "EkUMOSfGwZc4"
      },
      "outputs": [],
      "execution_count": null
    },
    {
      "cell_type": "code",
      "source": [
        "my_df.head()"
      ],
      "metadata": {
        "trusted": true,
        "_uuid": "913947b3cb45f6e1ec4b6bc82bb59cfc772f7b68",
        "id": "Epe7WqGawZc5"
      },
      "outputs": [],
      "execution_count": null
    },
    {
      "cell_type": "code",
      "source": [
        "# Crossing Numerical Features\n",
        "my_df['age-hours'] = my_df['age']*my_df['hours-per-week']\n",
        "my_df['age-hours_bin'] = pd.cut(my_df['age-hours'], 10)"
      ],
      "metadata": {
        "trusted": true,
        "collapsed": true,
        "_uuid": "58684536ef047301df9794f95758cc73ba4d89bf",
        "jupyter": {
          "outputs_hidden": true
        },
        "id": "c-dcSpxhwZc5"
      },
      "outputs": [],
      "execution_count": null
    },
    {
      "cell_type": "code",
      "source": [
        "plt.style.use('seaborn-whitegrid')\n",
        "fig = plt.figure(figsize=(20,5))\n",
        "plt.subplot(1, 2, 1)\n",
        "sns.countplot(y=\"age-hours_bin\", data=my_df);\n",
        "plt.subplot(1, 2, 2)\n",
        "sns.distplot(my_df[my_df['predclass'] == '>50K']['age-hours'], kde_kws={\"label\": \">$50K\"})\n",
        "sns.distplot(my_df[my_df['predclass'] == '<=50K']['age-hours'], kde_kws={\"label\": \"<$50K\"})"
      ],
      "metadata": {
        "trusted": true,
        "_uuid": "6833b257a2cd0af28d25a32e278bf67bf5ef94a6",
        "id": "0fxIHq0LwZc5"
      },
      "outputs": [],
      "execution_count": null
    },
    {
      "cell_type": "markdown",
      "source": [
        "## EDA"
      ],
      "metadata": {
        "_uuid": "e2c243a8f27bc494714e99a5a315ee4c09d1d066",
        "id": "RfFpjWvOwZc5"
      }
    },
    {
      "cell_type": "markdown",
      "source": [
        "### Pair Plot"
      ],
      "metadata": {
        "_uuid": "94bd6704a267093fb57f0e9971f6da57c6287a0f",
        "id": "MC_k29OSwZc5"
      }
    },
    {
      "cell_type": "code",
      "source": [
        "#pair plots of entire dataset\n",
        "pp = sns.pairplot(my_df, hue = 'predclass', palette = 'deep',\n",
        "                  size=3, diag_kind = 'kde', diag_kws=dict(shade=True), plot_kws=dict(s=20) )\n",
        "pp.set(xticklabels=[])"
      ],
      "metadata": {
        "trusted": true,
        "_uuid": "7881188458b3b93a2e33bda740c793c44fb36bce",
        "id": "IEV0PoMtwZc6"
      },
      "outputs": [],
      "execution_count": null
    },
    {
      "cell_type": "markdown",
      "source": [
        "### Correlation Heatmap"
      ],
      "metadata": {
        "code_folding": [],
        "_uuid": "fa4d80b8b9950a0bcfa7a9bed96e50a4e3f3ee0b",
        "id": "mpHD-dEBwZc6"
      }
    },
    {
      "cell_type": "code",
      "source": [
        "#correlation heatmap of dataset\n",
        "def correlation_heatmap(df):\n",
        "    _ , ax = plt.subplots(figsize =(14, 12))\n",
        "    colormap = sns.diverging_palette(220, 10, as_cmap = True)\n",
        "\n",
        "    _ = sns.heatmap(\n",
        "        df.corr(),\n",
        "        cmap = \"YlGn\",\n",
        "        square=True,\n",
        "        cbar_kws={'shrink':.9 },\n",
        "        ax=ax,\n",
        "        annot=True,\n",
        "        linewidths=0.1,vmax=1.0, linecolor='white',\n",
        "        annot_kws={'fontsize':12 }\n",
        "    )\n",
        "\n",
        "    plt.title('Pearson Correlation of Features', y=1.05, size=15)\n",
        "\n",
        "correlation_heatmap(my_df)"
      ],
      "metadata": {
        "trusted": true,
        "_uuid": "d9585e4f4e3b5c6f79bf8c016e30252041883188",
        "id": "MpiMFcwOwZc6"
      },
      "outputs": [],
      "execution_count": null
    },
    {
      "cell_type": "markdown",
      "source": [
        "### Bivariate Analysis"
      ],
      "metadata": {
        "_uuid": "7871a815408e5a07f64abc2975d8639888e0f88f",
        "id": "FIXIk-FowZc6"
      }
    },
    {
      "cell_type": "code",
      "source": [
        "my_df.tail()"
      ],
      "metadata": {
        "trusted": true,
        "_uuid": "6381386f9289b9e659c0137e112f66c12460fb91",
        "id": "r1dMi8QiwZc6"
      },
      "outputs": [],
      "execution_count": null
    },
    {
      "cell_type": "code",
      "source": [
        "import math\n",
        "\n",
        "def plot_bivariate_bar(dataset, hue, cols=5, width=20, height=15, hspace=0.2, wspace=0.5):\n",
        "    dataset = dataset.select_dtypes(include=[np.object])\n",
        "    plt.style.use('seaborn-whitegrid')\n",
        "    fig = plt.figure(figsize=(width,height))\n",
        "    fig.subplots_adjust(left=None, bottom=None, right=None, top=None, wspace=wspace, hspace=hspace)\n",
        "    rows = math.ceil(float(dataset.shape[1]) / cols)\n",
        "    for i, column in enumerate(dataset.columns):\n",
        "        ax = fig.add_subplot(rows, cols, i + 1)\n",
        "        ax.set_title(column)\n",
        "        if dataset.dtypes[column] == np.object:\n",
        "            g = sns.countplot(y=column, hue=hue, data=dataset)\n",
        "            substrings = [s.get_text()[:10] for s in g.get_yticklabels()]\n",
        "            g.set(yticklabels=substrings)\n",
        "\n",
        "bivariate_df = my_df.loc[:, ['workclass', 'education',\n",
        "           'marital-status', 'occupation',\n",
        "           'relationship', 'race', 'gender','predclass']]\n",
        "\n",
        "plot_bivariate_bar(bivariate_df, hue='predclass', cols=2, width=20, height=15, hspace=0.4, wspace=0.5)\n"
      ],
      "metadata": {
        "trusted": true,
        "_uuid": "57d05267fff60f26f44a4872414e598d9f93e241",
        "id": "LUL_t3v6wZc6"
      },
      "outputs": [],
      "execution_count": null
    },
    {
      "cell_type": "markdown",
      "source": [
        "### Occupation vs. Income Level"
      ],
      "metadata": {
        "_uuid": "724dee621daa14d27a594a59dc896b68c922bde6",
        "id": "fG8uL6WzwZc7"
      }
    },
    {
      "cell_type": "code",
      "source": [
        "from matplotlib import pyplot\n",
        "a4_dims = (20, 5)\n",
        "fig, ax = pyplot.subplots(figsize=a4_dims)\n",
        "ax = sns.violinplot(x=\"occupation\", y=\"age\", hue=\"predclass\",\n",
        "                    data=my_df, gridsize=100, palette=\"muted\", split=True, saturation=0.75)\n",
        "ax"
      ],
      "metadata": {
        "trusted": true,
        "_uuid": "3a72ffffca32dde55073cfe932e0d85f13d59872",
        "id": "7ZRGUkC8wZc7"
      },
      "outputs": [],
      "execution_count": null
    },
    {
      "cell_type": "markdown",
      "source": [
        "### Race vs. Income Level"
      ],
      "metadata": {
        "_uuid": "3a7301a05ee2be896ddbcd6d5622a6404a3b6512",
        "id": "nPfIZbShwZc7"
      }
    },
    {
      "cell_type": "markdown",
      "source": [
        "![censusrace](https://user-images.githubusercontent.com/31974451/36568899-8e25bc6c-17e0-11e8-9e85-53d0f5cc1d7f.png)\n"
      ],
      "metadata": {
        "_uuid": "88d20ca029435d463f98ebfb30f0d6b8f0c2e58e",
        "id": "_qcQiMpdwZc7"
      }
    },
    {
      "cell_type": "code",
      "source": [
        "from matplotlib import pyplot\n",
        "a4_dims = (20, 5)\n",
        "fig, ax = pyplot.subplots(figsize=a4_dims)\n",
        "ax = sns.violinplot(x=\"race\", y=\"age\", hue=\"predclass\",\n",
        "                    data=my_df, gridsize=100, palette=\"muted\", split=True, saturation=0.75)\n",
        "ax"
      ],
      "metadata": {
        "trusted": true,
        "_uuid": "4f13a9e20c02d74c7848d2a9262e7864429e3e98",
        "id": "kDsSZChbwZc8"
      },
      "outputs": [],
      "execution_count": null
    },
    {
      "cell_type": "markdown",
      "source": [
        "## Building Machine Learning Models"
      ],
      "metadata": {
        "_uuid": "3573099aa68ad0a1ce6a5b48470f1a96674c78e4",
        "id": "Shy96X51wZc8"
      }
    },
    {
      "cell_type": "code",
      "source": [
        "from sklearn.cluster import KMeans\n",
        "from matplotlib import cm\n",
        "from sklearn.metrics import silhouette_samples\n",
        "from sklearn.metrics import silhouette_score\n",
        "from sklearn.metrics import accuracy_score\n",
        "\n",
        "from sklearn.decomposition import PCA\n",
        "from pandas.tools.plotting import scatter_matrix\n",
        "from mpl_toolkits.mplot3d import Axes3D\n",
        "\n",
        "from sklearn.model_selection import GridSearchCV\n",
        "\n",
        "\n",
        "#importing all the required ML packages\n",
        "from sklearn.linear_model import LogisticRegression #logistic regression\n",
        "from sklearn import svm #support vector Machine\n",
        "from sklearn.ensemble import RandomForestClassifier #Random Forest\n",
        "from sklearn.neighbors import KNeighborsClassifier #KNN\n",
        "from sklearn.naive_bayes import GaussianNB #Naive bayes\n",
        "from sklearn.tree import DecisionTreeClassifier #Decision Tree\n",
        "from sklearn import metrics #accuracy measure\n",
        "from sklearn.metrics import confusion_matrix #for confusion matrix\n",
        "#train,test=train_test_split(train_df,test_size=0.2,random_state=0,stratify=abalone_data['Sex'])"
      ],
      "metadata": {
        "collapsed": true,
        "trusted": true,
        "_uuid": "bfa28c74f7e3453ea38244ebb04b714c3d894b15",
        "jupyter": {
          "outputs_hidden": true
        },
        "id": "tdqq9cd9wZc8"
      },
      "outputs": [],
      "execution_count": null
    },
    {
      "cell_type": "markdown",
      "source": [
        "### Feature Encoding"
      ],
      "metadata": {
        "_uuid": "a08a8673ca68352ebc89b7dbe5b109c276b6a128",
        "id": "Pdyfgv2-wZc8"
      }
    },
    {
      "cell_type": "code",
      "source": [
        "# Feature Selection and Encoding\n",
        "from sklearn.svm import SVR\n",
        "from sklearn.preprocessing import LabelEncoder\n",
        "from sklearn.model_selection import train_test_split #training and testing data split\n"
      ],
      "metadata": {
        "collapsed": true,
        "trusted": true,
        "_uuid": "2523d57d0e4b496bf2b4a35534609acde4a92b71",
        "jupyter": {
          "outputs_hidden": true
        },
        "id": "w1tVmLR_wZc8"
      },
      "outputs": [],
      "execution_count": null
    },
    {
      "cell_type": "code",
      "source": [
        "my_df = my_df.apply(LabelEncoder().fit_transform)\n",
        "my_df.head()"
      ],
      "metadata": {
        "trusted": true,
        "_uuid": "8c2eae958fc84d346cba3704c3708e7dd30a963b",
        "id": "C3t8io12wZc8"
      },
      "outputs": [],
      "execution_count": null
    },
    {
      "cell_type": "markdown",
      "source": [
        "### Train-test split"
      ],
      "metadata": {
        "_uuid": "9de5adc4423322203af81a47e480f49b5be4b3c6",
        "id": "Lp0S1McbwZc9"
      }
    },
    {
      "cell_type": "code",
      "source": [
        "drop_elements = ['education', 'native-country', 'predclass', 'age_bin', 'age-hours_bin','hours-per-week_bin']\n",
        "y = my_df[\"predclass\"]\n",
        "X = my_df.drop(drop_elements, axis=1)\n",
        "X.head()"
      ],
      "metadata": {
        "trusted": true,
        "_uuid": "1db083293c3ee962f65740a987dcc9b85fb3f5d7",
        "id": "csXT39aGwZc9"
      },
      "outputs": [],
      "execution_count": null
    },
    {
      "cell_type": "code",
      "source": [
        "X_train, X_test, y_train, y_test = train_test_split(X, y, test_size=0.2, random_state=2)"
      ],
      "metadata": {
        "collapsed": true,
        "trusted": true,
        "_uuid": "c85926dde1a656c6c2377fc9ec85b97e40fdbe70",
        "jupyter": {
          "outputs_hidden": true
        },
        "id": "q0RWwt-nwZc-"
      },
      "outputs": [],
      "execution_count": null
    },
    {
      "cell_type": "markdown",
      "source": [
        "### Principal Component Analysis (PCA)"
      ],
      "metadata": {
        "_uuid": "6b90bc196c4df87ea681fa8430787609f913abd5",
        "id": "rYBo9tzSwZc-"
      }
    },
    {
      "cell_type": "code",
      "source": [
        "from sklearn import preprocessing\n",
        "from sklearn.preprocessing import StandardScaler\n"
      ],
      "metadata": {
        "collapsed": true,
        "trusted": true,
        "_uuid": "d8dafdf595fe3f3a72ae85af90fd6b8030883928",
        "jupyter": {
          "outputs_hidden": true
        },
        "id": "3Jofq7qTwZc-"
      },
      "outputs": [],
      "execution_count": null
    },
    {
      "cell_type": "code",
      "source": [
        "# PCA's components graphed in 2D and 3D\n",
        "# Apply Scaling\n",
        "std_scale = preprocessing.StandardScaler().fit(my_df.drop('predclass', axis=1))\n",
        "X = std_scale.transform(my_df.drop('predclass', axis=1))\n",
        "y = my_df['predclass']\n",
        "\n",
        "# Formatting\n",
        "target_names = [0,1]\n",
        "colors = ['blue','yellow','pink']\n",
        "lw = 2\n",
        "alpha = 0.3\n",
        "# 2 Components PCA\n",
        "plt.style.use('seaborn-whitegrid')\n",
        "plt.figure(2, figsize=(20, 8))\n",
        "\n",
        "plt.subplot(1, 2, 1)\n",
        "pca = PCA(n_components=2)\n",
        "X_r = pca.fit(X).transform(X)\n",
        "for color, i, target_name in zip(colors, [0, 1], target_names):\n",
        "    plt.scatter(X_r[y == i, 0], X_r[y == i, 1],\n",
        "                color=color,\n",
        "                alpha=alpha,\n",
        "                lw=lw,\n",
        "                label=target_name)\n",
        "plt.legend(loc='best', shadow=False, scatterpoints=1)\n",
        "plt.title('First two PCA directions');\n",
        "\n",
        "# 3 Components PCA\n",
        "ax = plt.subplot(1, 2, 2, projection='3d')\n",
        "\n",
        "pca = PCA(n_components=3)\n",
        "X_reduced = pca.fit(X).transform(X)\n",
        "for color, i, target_name in zip(colors, [0, 1], target_names):\n",
        "    ax.scatter(X_reduced[y == i, 0], X_reduced[y == i, 1], X_reduced[y == i, 2],\n",
        "               color=color,\n",
        "               alpha=alpha,\n",
        "               lw=lw,\n",
        "               label=target_name)\n",
        "plt.legend(loc='best', shadow=False, scatterpoints=1)\n",
        "ax.set_title(\"First three PCA directions\")\n",
        "ax.set_xlabel(\"1st eigenvector\")\n",
        "ax.set_ylabel(\"2nd eigenvector\")\n",
        "ax.set_zlabel(\"3rd eigenvector\")\n",
        "\n",
        "# rotate the axes\n",
        "ax.view_init(30, 10)"
      ],
      "metadata": {
        "trusted": true,
        "_uuid": "5ea36df8d60640335b8da44d21e754e3a7acf50e",
        "id": "4OGs90m3wZc-"
      },
      "outputs": [],
      "execution_count": null
    },
    {
      "cell_type": "code",
      "source": [
        "sc = StandardScaler()\n",
        "X_train_std = sc.fit_transform(X_train)\n",
        "pca = PCA(n_components=None)\n",
        "x_train_pca = pca.fit_transform(X_train_std)\n",
        "a = pca.explained_variance_ratio_\n",
        "a_running = a.cumsum()\n",
        "a_running"
      ],
      "metadata": {
        "trusted": true,
        "_uuid": "e341bbe538c1714c889aa000fb30bb72c1cfb4a6",
        "id": "gfsU1eE7wZc_"
      },
      "outputs": [],
      "execution_count": null
    },
    {
      "cell_type": "markdown",
      "source": [
        "### Classification Models"
      ],
      "metadata": {
        "_uuid": "2be7626d1e1d75806fae9cbbb0b9ea1ec1b8cda1",
        "id": "NE5jWtdBwZc_"
      }
    },
    {
      "cell_type": "markdown",
      "source": [
        "#### Linear Support Vector Machine"
      ],
      "metadata": {
        "_uuid": "96de85d33b07017b69f62f784745c1edeccb40cc",
        "id": "EOwUYJrMwZdA"
      }
    },
    {
      "cell_type": "code",
      "source": [
        "# Support Vector Classifier (SVM/SVC)\n",
        "from sklearn.svm import SVC\n",
        "svc = SVC(gamma=0.22)\n",
        "svc.fit(X_train, y_train)\n",
        "#y_pred = logreg.predict(X_test)\n",
        "score_svc = svc.score(X_test,y_test)\n",
        "print('The accuracy of SVC is', score_svc)"
      ],
      "metadata": {
        "trusted": true,
        "collapsed": true,
        "_uuid": "8526f073a37c4ed4467a60c44e841c877a8657bd",
        "jupyter": {
          "outputs_hidden": true
        },
        "id": "EtEHtLbGwZdA"
      },
      "outputs": [],
      "execution_count": null
    },
    {
      "cell_type": "markdown",
      "source": [
        "#### Radical Support Vector Machine"
      ],
      "metadata": {
        "_uuid": "84c4d2489018c73fc0da2f0d2d51e8fc7c506643",
        "id": "XwIm_SgCwZdA"
      }
    },
    {
      "cell_type": "code",
      "source": [
        "svc_radical =svm.SVC(kernel='rbf',C=1,gamma=0.22)\n",
        "svc_radical.fit(X_train,y_train.values.ravel())\n",
        "score_svc_radical = svc_radical.score(X_test,y_test)\n",
        "print('The accuracy of Radical SVC Model is', score_svc_radical)"
      ],
      "metadata": {
        "trusted": true,
        "collapsed": true,
        "_uuid": "bb140d59a5228ad4b0e916b0d7a7ba451488d046",
        "jupyter": {
          "outputs_hidden": true
        },
        "id": "OZZoQoZnwZdA"
      },
      "outputs": [],
      "execution_count": null
    },
    {
      "cell_type": "markdown",
      "source": [
        "#### Logistic Regression"
      ],
      "metadata": {
        "code_folding": [],
        "_uuid": "f1b98661241eb15e9cf350a667d36952f16bc9dd",
        "id": "GByhHiiWwZdB"
      }
    },
    {
      "cell_type": "code",
      "source": [
        "# Logistic Regression\n",
        "logreg = LogisticRegression()\n",
        "logreg.fit(X_train, y_train)\n",
        "#y_pred = logreg.predict(X_test)\n",
        "score_logreg = logreg.score(X_test,y_test)\n",
        "print('The accuracy of the Logistic Regression is', score_logreg)"
      ],
      "metadata": {
        "trusted": true,
        "collapsed": true,
        "_uuid": "896668d07f77833bdeaa33d9d5ff45e2b356aaf7",
        "jupyter": {
          "outputs_hidden": true
        },
        "id": "Gt351CVKwZdB"
      },
      "outputs": [],
      "execution_count": null
    },
    {
      "cell_type": "markdown",
      "source": [
        "#### Random Forest"
      ],
      "metadata": {
        "_uuid": "74468a8fa187cfa0c2f909eca48f409d11803cd9",
        "id": "RTzoGaXnwZdB"
      }
    },
    {
      "cell_type": "code",
      "source": [
        "# Random Forest Classifier\n",
        "randomforest = RandomForestClassifier()\n",
        "randomforest.fit(X_train, y_train)\n",
        "#y_pred = randomforest.predict(X_test)\n",
        "score_randomforest = randomforest.score(X_test,y_test)\n",
        "print('The accuracy of the Random Forest Model is', score_randomforest)"
      ],
      "metadata": {
        "trusted": true,
        "collapsed": true,
        "_uuid": "00baa5434be80a419e4759f4dd79a054912bdf60",
        "jupyter": {
          "outputs_hidden": true
        },
        "id": "AmWOoUekwZdB"
      },
      "outputs": [],
      "execution_count": null
    },
    {
      "cell_type": "markdown",
      "source": [
        "#### K-Nearest Neighbors"
      ],
      "metadata": {
        "_uuid": "51339af9138fa882963342e7cf78188ef356a1dd",
        "id": "LBDQn1rJwZdB"
      }
    },
    {
      "cell_type": "code",
      "source": [
        "# K-Nearest Neighbors\n",
        "knn = KNeighborsClassifier()\n",
        "knn.fit(X_train, y_train)\n",
        "#y_pred = knn.predict(X_test)\n",
        "score_knn = knn.score(X_test,y_test)\n",
        "print('The accuracy of the KNN Model is',score_knn)"
      ],
      "metadata": {
        "trusted": true,
        "collapsed": true,
        "_uuid": "ba1ed542dc0702bfa0c04d1c0929da2ae4b301f3",
        "jupyter": {
          "outputs_hidden": true
        },
        "id": "DbX7CJWfwZdB"
      },
      "outputs": [],
      "execution_count": null
    },
    {
      "cell_type": "markdown",
      "source": [
        "### Cross Validation"
      ],
      "metadata": {
        "_uuid": "122bf96cd1dff001d0a2e3a99a59f73eaca109b6",
        "id": "nhg7QpjswZdB"
      }
    },
    {
      "cell_type": "code",
      "source": [
        "### cross validation\n",
        "from sklearn.model_selection import KFold #for K-fold cross validation\n",
        "from sklearn.model_selection import cross_val_score #score evaluation\n",
        "from sklearn.model_selection import cross_val_predict #prediction\n",
        "kfold = KFold(n_splits=10, random_state=22) # k=10, split the data into 10 equal parts\n",
        "xyz=[]\n",
        "accuracy=[]\n",
        "std=[]\n",
        "classifiers=['Naive Bayes','Linear Svm','Radial Svm','Logistic Regression','Decision Tree','KNN','Random Forest']\n",
        "models=[GaussianNB(), svm.SVC(kernel='linear'),svm.SVC(kernel='rbf'),LogisticRegression(),DecisionTreeClassifier(),\n",
        "        KNeighborsClassifier(n_neighbors=9),RandomForestClassifier(n_estimators=100)]\n",
        "for i in models:\n",
        "    model = i\n",
        "    cv_result = cross_val_score(model,X,y, cv = kfold,scoring = \"accuracy\")\n",
        "    cv_result=cv_result\n",
        "    xyz.append(cv_result.mean())\n",
        "    std.append(cv_result.std())\n",
        "    accuracy.append(cv_result)\n",
        "models_dataframe=pd.DataFrame({'CV Mean':xyz,'Std':std},index=classifiers)\n",
        "models_dataframe"
      ],
      "metadata": {
        "trusted": true,
        "_uuid": "ce987492c3e4c51041a291f78b6e51d904db5950",
        "id": "f-XZ3MtuwZdB"
      },
      "outputs": [],
      "execution_count": null
    },
    {
      "cell_type": "markdown",
      "source": [
        "Random Forest is the most accurate model."
      ],
      "metadata": {
        "_uuid": "5efd9cd185b205cd248236674205a3faf9aacd32",
        "id": "qxSuaxFFwZdC"
      }
    },
    {
      "cell_type": "markdown",
      "source": [
        "#### GridSearch"
      ],
      "metadata": {
        "_uuid": "86f9d1102baa1923c9cd4521e90c17ea6921e479",
        "id": "Dz6OnLyiwZdC"
      }
    },
    {
      "cell_type": "markdown",
      "source": [],
      "metadata": {
        "id": "ATz6CyfPxKDH"
      }
    },
    {
      "cell_type": "raw",
      "source": [
        "model = RandomForestClassifier()\n",
        "parameters = {'n_estimators': [500],\n",
        "              'max_features': ['log2', 'sqrt','auto'],\n",
        "              #The number of features to consider when looking for the best split\n",
        "              'max_depth': [50,80,100,150],\n",
        "              'min_samples_split': [5,7,9,11],\n",
        "             }\n",
        "grid_obj = GridSearchCV(model, parameters, scoring=\"neg_log_loss\",n_jobs=4,cv = 5)\n",
        "grid_obj = grid_obj.fit(X_train,y_train)\n",
        "model_params = grid_obj.best_params_\n",
        "model_params"
      ],
      "metadata": {
        "collapsed": true,
        "_uuid": "6f35dc384884377e6c176a223ac60131fd30abe2",
        "jupyter": {
          "outputs_hidden": true
        },
        "id": "oTYG-d7xwZdC"
      }
    }
  ]
}